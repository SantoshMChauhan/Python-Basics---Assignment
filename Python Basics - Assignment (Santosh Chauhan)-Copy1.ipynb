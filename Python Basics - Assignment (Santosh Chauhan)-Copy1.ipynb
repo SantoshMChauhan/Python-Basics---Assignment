{
 "cells": [
  {
   "cell_type": "markdown",
   "metadata": {},
   "source": [
    "Q1- Store a message in a variable, and then print that message."
   ]
  },
  {
   "cell_type": "code",
   "execution_count": 1,
   "metadata": {},
   "outputs": [],
   "source": [
    "Python = (\"Python is an interpreted high-level general-purpose programming language\")"
   ]
  },
  {
   "cell_type": "code",
   "execution_count": 2,
   "metadata": {},
   "outputs": [
    {
     "name": "stdout",
     "output_type": "stream",
     "text": [
      "Python is an interpreted high-level general-purpose programming language\n"
     ]
    }
   ],
   "source": [
    "print (Python)"
   ]
  },
  {
   "cell_type": "markdown",
   "metadata": {},
   "source": [
    "#Q2 - Store a message in a variable and print that message. Then change the value of your variableto a new message n print the new message.'"
   ]
  },
  {
   "cell_type": "code",
   "execution_count": 9,
   "metadata": {},
   "outputs": [],
   "source": [
    "a = 50"
   ]
  },
  {
   "cell_type": "code",
   "execution_count": 11,
   "metadata": {},
   "outputs": [
    {
     "name": "stdout",
     "output_type": "stream",
     "text": [
      "50\n"
     ]
    }
   ],
   "source": [
    "print (a)"
   ]
  },
  {
   "cell_type": "code",
   "execution_count": 12,
   "metadata": {},
   "outputs": [],
   "source": [
    "a = 60"
   ]
  },
  {
   "cell_type": "code",
   "execution_count": 13,
   "metadata": {},
   "outputs": [
    {
     "name": "stdout",
     "output_type": "stream",
     "text": [
      "60\n"
     ]
    }
   ],
   "source": [
    "print (a)"
   ]
  },
  {
   "cell_type": "markdown",
   "metadata": {},
   "source": [
    "Q3 - Store a person’s name in a variable and print a message to that person. \n",
    "Your message should be simple, such as, “Hello Eric, would you like to \n",
    "learn some Python today?”\n",
    "\n"
   ]
  },
  {
   "cell_type": "code",
   "execution_count": 37,
   "metadata": {},
   "outputs": [],
   "source": [
    "b = \"Ram\""
   ]
  },
  {
   "cell_type": "code",
   "execution_count": 40,
   "metadata": {},
   "outputs": [
    {
     "name": "stdout",
     "output_type": "stream",
     "text": [
      "Hi Ram How are you today\n"
     ]
    }
   ],
   "source": [
    "print (\"Hi\"+\" \"+b+\" \"+\"How are you today\")"
   ]
  },
  {
   "cell_type": "markdown",
   "metadata": {},
   "source": [
    "Q4 - Find a quote from a famous person you admire. Print the quote and the \n",
    "name of its author. Your output should look something like the following, \n",
    "including the quotation marks: Albert Einstein once said, “A person who \n",
    "never made a mistake never tried anything new.”\n"
   ]
  },
  {
   "cell_type": "code",
   "execution_count": 48,
   "metadata": {},
   "outputs": [],
   "source": [
    "a = (\"A.P.J Abdul Kalam :\")"
   ]
  },
  {
   "cell_type": "code",
   "execution_count": 58,
   "metadata": {},
   "outputs": [],
   "source": [
    "b = ('\"Man needs difficulties in life because they are necessary to enjoy the success\"')"
   ]
  },
  {
   "cell_type": "code",
   "execution_count": 60,
   "metadata": {},
   "outputs": [
    {
     "name": "stdout",
     "output_type": "stream",
     "text": [
      "A quote by A.P.J Abdul Kalam : \"Man needs difficulties in life because they are necessary to enjoy the success\"\n"
     ]
    }
   ],
   "source": [
    "print(\"A quote by\" \" \"+ a + \" \"+ b)"
   ]
  },
  {
   "cell_type": "markdown",
   "metadata": {},
   "source": [
    "Q5 - Repeat Exercise 4, but this time store the famous person’s name in a \n",
    "variable called famous_person. Then compose your message and store it in \n",
    "a new variable called message. Print your message."
   ]
  },
  {
   "cell_type": "code",
   "execution_count": 69,
   "metadata": {},
   "outputs": [],
   "source": [
    "famouse_person = \"Martin Luther King\""
   ]
  },
  {
   "cell_type": "code",
   "execution_count": 70,
   "metadata": {},
   "outputs": [],
   "source": [
    "message = '\"Our lives begin to end the day we become silent about the things that matter\"'"
   ]
  },
  {
   "cell_type": "code",
   "execution_count": 71,
   "metadata": {},
   "outputs": [
    {
     "name": "stdout",
     "output_type": "stream",
     "text": [
      "Martin Luther King said, \"Our lives begin to end the day we become silent about the things that matter\"\n"
     ]
    }
   ],
   "source": [
    "print (famouse_person + \" \" + \"said,\" + \" \" + message)"
   ]
  },
  {
   "cell_type": "markdown",
   "metadata": {},
   "source": [
    "Q6 - Write addition, subtraction, multiplication, and division operations that \n",
    "each result in the number 8. Be sure to enclose your operations in print \n",
    "statements to see the results. You should create four lines that look like \n",
    "this: print (5 + 3)\n",
    "Your output should simply be four lines with the number 8 appearing once \n",
    "on each line."
   ]
  },
  {
   "cell_type": "code",
   "execution_count": 72,
   "metadata": {},
   "outputs": [],
   "source": [
    "a = (4+4)"
   ]
  },
  {
   "cell_type": "code",
   "execution_count": 73,
   "metadata": {},
   "outputs": [],
   "source": [
    "b = (10-2)"
   ]
  },
  {
   "cell_type": "code",
   "execution_count": 79,
   "metadata": {},
   "outputs": [],
   "source": [
    "c = (16/2)"
   ]
  },
  {
   "cell_type": "code",
   "execution_count": 80,
   "metadata": {},
   "outputs": [],
   "source": [
    "d = (4*2)"
   ]
  },
  {
   "cell_type": "code",
   "execution_count": 81,
   "metadata": {},
   "outputs": [
    {
     "name": "stdout",
     "output_type": "stream",
     "text": [
      "8 8 8.0 8\n"
     ]
    }
   ],
   "source": [
    "print (a,b,c,d)"
   ]
  },
  {
   "cell_type": "code",
   "execution_count": 82,
   "metadata": {},
   "outputs": [],
   "source": [
    "#Or we can print it one by one"
   ]
  },
  {
   "cell_type": "code",
   "execution_count": 83,
   "metadata": {},
   "outputs": [
    {
     "name": "stdout",
     "output_type": "stream",
     "text": [
      "8\n"
     ]
    }
   ],
   "source": [
    "print (a)"
   ]
  },
  {
   "cell_type": "code",
   "execution_count": 84,
   "metadata": {},
   "outputs": [
    {
     "name": "stdout",
     "output_type": "stream",
     "text": [
      "8\n"
     ]
    }
   ],
   "source": [
    "print (b)"
   ]
  },
  {
   "cell_type": "code",
   "execution_count": 98,
   "metadata": {},
   "outputs": [
    {
     "name": "stdout",
     "output_type": "stream",
     "text": [
      "8.0\n"
     ]
    }
   ],
   "source": [
    "print (c)"
   ]
  },
  {
   "cell_type": "code",
   "execution_count": 86,
   "metadata": {},
   "outputs": [
    {
     "name": "stdout",
     "output_type": "stream",
     "text": [
      "8\n"
     ]
    }
   ],
   "source": [
    "print (d)"
   ]
  },
  {
   "cell_type": "markdown",
   "metadata": {},
   "source": [
    "Q7 - Store your favourite number in a variable. Then, using that variable, create \n",
    "a message that reveals your favourite number. Print that message"
   ]
  },
  {
   "cell_type": "code",
   "execution_count": 92,
   "metadata": {},
   "outputs": [],
   "source": [
    "Favorite_number = 7"
   ]
  },
  {
   "cell_type": "code",
   "execution_count": 96,
   "metadata": {},
   "outputs": [],
   "source": [
    "Message = \"My Favorite number is\" + \" \" + str(Favorite_number)+ '.'"
   ]
  },
  {
   "cell_type": "code",
   "execution_count": 97,
   "metadata": {},
   "outputs": [
    {
     "name": "stdout",
     "output_type": "stream",
     "text": [
      "My Favorite number is 7.\n"
     ]
    }
   ],
   "source": [
    "print (Message)"
   ]
  },
  {
   "cell_type": "markdown",
   "metadata": {},
   "source": [
    "Q9 - Store the names of a few of your friends in a list called names. Print each \n",
    "person’s name by accessing each element in the list, one at a time."
   ]
  },
  {
   "cell_type": "code",
   "execution_count": 102,
   "metadata": {},
   "outputs": [],
   "source": [
    "Friends = ['Lohit', 'Laxman', 'Devashree']"
   ]
  },
  {
   "cell_type": "code",
   "execution_count": 109,
   "metadata": {
    "scrolled": true
   },
   "outputs": [
    {
     "name": "stdout",
     "output_type": "stream",
     "text": [
      "Lohit\n",
      "Laxman\n",
      "Devashree\n"
     ]
    }
   ],
   "source": [
    "print (Friends[0])\n",
    "print (Friends[1])\n",
    "print (Friends[2])"
   ]
  },
  {
   "cell_type": "markdown",
   "metadata": {},
   "source": [
    "Q10 - Start with the list you used in Exercise 9, but instead of just printing each \n",
    "person’s name, print a message to them. The text of each message should \n",
    "be the same, but each message should be personalized with the person’s\n",
    "nam"
   ]
  },
  {
   "cell_type": "code",
   "execution_count": 120,
   "metadata": {},
   "outputs": [],
   "source": [
    "Friends = ['Lohit', 'Laxman', 'Devashree']"
   ]
  },
  {
   "cell_type": "code",
   "execution_count": 149,
   "metadata": {},
   "outputs": [
    {
     "name": "stdout",
     "output_type": "stream",
     "text": [
      "Hi, Lohit!\n",
      "Hi, Laxman!\n",
      "Hi, Devashree!\n"
     ]
    }
   ],
   "source": [
    "Message = f\"Hi, {Friends[0]}!\"\n",
    "print(Message)\n",
    "\n",
    "Message = f\"Hi, {Friends[1]}!\"\n",
    "print (Message)\n",
    "\n",
    "Message = f\"Hi, {Friends[2]}!\"\n",
    "print (Message)"
   ]
  },
  {
   "cell_type": "markdown",
   "metadata": {},
   "source": [
    "Q11 - Think of your favourite mode of transportation, such as a motorcycle or a \n",
    "car, and make a list that stores several examples. Use your list to print a \n",
    "series of statements about these items, such as “I would like to own a \n",
    "Honda motorcycle.”"
   ]
  },
  {
   "cell_type": "code",
   "execution_count": 157,
   "metadata": {},
   "outputs": [],
   "source": [
    "Motorcycles = ['Royal Enfield 350','Bajaj Avenger Cruise', 'Herley Davidson', 'RE ThunderBird']"
   ]
  },
  {
   "cell_type": "code",
   "execution_count": 173,
   "metadata": {},
   "outputs": [
    {
     "name": "stdout",
     "output_type": "stream",
     "text": [
      "My Favorite bike is, Royal Enfield 350.\n",
      "My Short term dream is to buy,  Bajaj Avenger Cruise.\n",
      "My Long term goal is to own,  Herley Davidson.\n",
      "RE ThunderBird Comes under my one of the favorite bike's\n"
     ]
    }
   ],
   "source": [
    "Statement = f\"My Favorite bike is, {Motorcycles[0]}.\"\n",
    "print (Statement)\n",
    "\n",
    "Statement = f\"My Short term dream is to buy,  {Motorcycles[1]}.\"\n",
    "print (Statement)\n",
    "\n",
    "Statement = f\"My Long term goal is to own,  {Motorcycles[2]}.\"\n",
    "print (Statement)\n",
    "\n",
    "Statement = f\"{Motorcycles[3]} Comes under my one of the favorite bike's\"\n",
    "print (Statement)"
   ]
  },
  {
   "cell_type": "code",
   "execution_count": null,
   "metadata": {},
   "outputs": [],
   "source": []
  }
 ],
 "metadata": {
  "kernelspec": {
   "display_name": "Python 3",
   "language": "python",
   "name": "python3"
  },
  "language_info": {
   "codemirror_mode": {
    "name": "ipython",
    "version": 3
   },
   "file_extension": ".py",
   "mimetype": "text/x-python",
   "name": "python",
   "nbconvert_exporter": "python",
   "pygments_lexer": "ipython3",
   "version": "3.8.5"
  }
 },
 "nbformat": 4,
 "nbformat_minor": 4
}
